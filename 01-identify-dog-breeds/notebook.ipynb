{
 "cells": [
  {
   "cell_type": "markdown",
   "metadata": {},
   "source": [
    "#### 1. Install Dependencies"
   ]
  },
  {
   "cell_type": "code",
   "execution_count": null,
   "metadata": {},
   "outputs": [],
   "source": [
    "pip install -r requirements.txt -q"
   ]
  },
  {
   "cell_type": "markdown",
   "metadata": {},
   "source": [
    "#### 2. Imports & Helper Functions"
   ]
  },
  {
   "cell_type": "code",
   "execution_count": null,
   "metadata": {},
   "outputs": [],
   "source": [
    "from duckduckgo_search import DDGS\n",
    "from fastcore.all import *\n",
    "from fastai.vision.all import *\n",
    "from fastdownload import download_url\n",
    "from time import sleep\n",
    "\n",
    "def search_images(term, max_images=50):\n",
    "    print(f\"Searching for '{term}'\")\n",
    "    return L(DDGS().images(keywords=term, max_results=max_images)).itemgot('image')\n",
    "\n",
    "def download_and_resize(searches, path, count=50):\n",
    "    for s in searches:\n",
    "        dest = (path/s)\n",
    "        dest.mkdir(exist_ok=True, parents=True)    \n",
    "        download_images(dest, urls=search_images(term=s, max_images=count))\n",
    "        print(f\"Resizing images in '{s}'\")\n",
    "        resize_images(path/s, max_size=400, dest=path/s)"
   ]
  },
  {
   "cell_type": "markdown",
   "metadata": {},
   "source": [
    "#### 3. Main Logic"
   ]
  },
  {
   "cell_type": "code",
   "execution_count": null,
   "metadata": {},
   "outputs": [],
   "source": [
    "# download images & save each image in a folder named after the search term\n",
    "# i.e. one folder per breed\n",
    "searches = ['great dane dog', 'golden retriever dog', 'chihuahua dog']\n",
    "path = Path('dog_breeds')\n",
    "download_and_resize(searches=searches, path=path, count=10)\n",
    "\n",
    "# some photos might not download correctly which could cause model training to fail\n",
    "# remove such broken images\n",
    "failed = verify_images(get_image_files(path))\n",
    "failed.map(Path.unlink)\n",
    "len(failed)"
   ]
  },
  {
   "cell_type": "markdown",
   "metadata": {},
   "source": [
    "Here what each of the DataBlock parameters means:\n",
    "\n",
    "blocks=(ImageBlock, CategoryBlock): \n",
    "- inputs to our model are images, and the outputs are categories\n",
    "- in this case, it's one of [chihuahua dog, golden retriever dog, great dane dog]\n",
    "\n",
    "get_items=get_image_files: \n",
    "- to find all inputs to our model\n",
    "- get_image_files function returns a list of all images in specified path recursively\n",
    "\n",
    "splitter=RandomSplitter(valid_pct=0.2, seed=42): \n",
    "- split the data into training and validation sets randomly\n",
    "- we are using 20% of the data for the validation set\n",
    "\n",
    "get_y=parent_label: \n",
    "- the labels (y values) is the name of the parent dir of each file \n",
    "- i.e. the name of the folder they're in which will be one of the dog breeds\n",
    "\n",
    "item_tfms=[Resize(192, method='squish')]: \n",
    "- before training, resize each image to 192x192 pixels by \"squishing\" it (as opposed to cropping it)"
   ]
  },
  {
   "cell_type": "code",
   "execution_count": null,
   "metadata": {},
   "outputs": [],
   "source": [
    "# create data loaders for training\n",
    "dls = DataBlock(\n",
    "    blocks=(ImageBlock, CategoryBlock), \n",
    "    get_items=get_image_files, \n",
    "    splitter=RandomSplitter(valid_pct=0.2, seed=42),\n",
    "    get_y=parent_label,\n",
    "    item_tfms=[Resize(192, method='squish')]\n",
    ").dataloaders(path, bs=10)\n",
    "\n",
    "# show a few images\n",
    "dls.show_batch(max_n=3)"
   ]
  },
  {
   "cell_type": "markdown",
   "metadata": {},
   "source": [
    "#### 4. Train The Model"
   ]
  },
  {
   "cell_type": "code",
   "execution_count": null,
   "metadata": {},
   "outputs": [],
   "source": [
    "# fastest widely used computer vision model is resnet18\n",
    "# this will take a few mins on a CPU \n",
    "# on a GPU, it will be much much faster\n",
    "learn = vision_learner(dls, resnet18, metrics=error_rate)\n",
    "\n",
    "# fastai comes with a helpful fine_tune() method which automatically uses best practices for fine tuning a pre-trained model\n",
    "learn.fine_tune(3)"
   ]
  },
  {
   "cell_type": "markdown",
   "metadata": {},
   "source": [
    "#### 5. Predict"
   ]
  },
  {
   "cell_type": "code",
   "execution_count": null,
   "metadata": {},
   "outputs": [],
   "source": [
    "# download a random great dane image\n",
    "image = 'great-dane.jpg'\n",
    "download_url(search_images('happy great dane adult dog', max_images=1)[0], image, show_progress=False)\n",
    "Image.open(image).to_thumb(256, 256)\n",
    "\n",
    "# predict the breed & display the confidence level (probability)\n",
    "breed, _, probs = learn.predict(PILImage.create(image))\n",
    "print(f\"This is a: {breed}.\")\n",
    "print(f\"Chihuahua probability: {probs[0]:.4f}\")\n",
    "print(f\"Golden Retriever probability: {probs[1]:.4f}\")\n",
    "print(f\"Great Dane probability: {probs[2]:.4f}\")"
   ]
  }
 ],
 "metadata": {
  "kernelspec": {
   "display_name": ".venv",
   "language": "python",
   "name": "python3"
  },
  "language_info": {
   "codemirror_mode": {
    "name": "ipython",
    "version": 3
   },
   "file_extension": ".py",
   "mimetype": "text/x-python",
   "name": "python",
   "nbconvert_exporter": "python",
   "pygments_lexer": "ipython3",
   "version": "3.11.4"
  }
 },
 "nbformat": 4,
 "nbformat_minor": 2
}
